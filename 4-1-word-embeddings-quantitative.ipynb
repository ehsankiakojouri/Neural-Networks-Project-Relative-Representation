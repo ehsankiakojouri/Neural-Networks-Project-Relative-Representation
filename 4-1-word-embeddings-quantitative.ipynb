{
 "cells": [
  {
   "cell_type": "code",
   "execution_count": 1,
   "id": "5a849e07",
   "metadata": {
    "_cell_guid": "b1076dfc-b9ad-4769-8c92-a6c4dae69d19",
    "_uuid": "8f2839f25d086af736a60e9eeb907d3b93b6e0e5",
    "execution": {
     "iopub.execute_input": "2024-07-07T01:03:03.334614Z",
     "iopub.status.busy": "2024-07-07T01:03:03.334174Z",
     "iopub.status.idle": "2024-07-07T01:03:27.907072Z",
     "shell.execute_reply": "2024-07-07T01:03:27.905817Z"
    },
    "papermill": {
     "duration": 24.582242,
     "end_time": "2024-07-07T01:03:27.910348",
     "exception": false,
     "start_time": "2024-07-07T01:03:03.328106",
     "status": "completed"
    },
    "tags": []
   },
   "outputs": [],
   "source": [
    "import gensim.downloader as api\n",
    "import torch\n",
    "import random\n",
    "import numpy as np\n",
    "import os\n",
    "from torch.nn.functional import normalize\n",
    "from torch import cosine_similarity\n",
    "from pytorch_lightning import seed_everything\n",
    "import matplotlib.pyplot as plt\n",
    "from sklearn.decomposition import PCA\n",
    "import requests, zipfile\n",
    "from gensim.models import KeyedVectors\n",
    "from sklearn.manifold import TSNE\n",
    "\n",
    "\n",
    "\n",
    "# choosing top_k among top_similar words to pivot words\n",
    "NO_quantitative_shared_words = 20000 # 20K\n",
    "\n",
    "# Ensure reproducibility\n",
    "seed = 100\n",
    "\n",
    "# input range in visualizing plots of latents\n",
    "plot_lim = 5\n",
    "\n",
    "# number of anchors for relative represntation dimensions to compute the similarity\n",
    "num_anchors = 300"
   ]
  },
  {
   "cell_type": "code",
   "execution_count": 2,
   "id": "dfc496ed",
   "metadata": {
    "execution": {
     "iopub.execute_input": "2024-07-07T01:03:27.920552Z",
     "iopub.status.busy": "2024-07-07T01:03:27.919911Z",
     "iopub.status.idle": "2024-07-07T01:03:27.927952Z",
     "shell.execute_reply": "2024-07-07T01:03:27.926577Z"
    },
    "papermill": {
     "duration": 0.016024,
     "end_time": "2024-07-07T01:03:27.930598",
     "exception": false,
     "start_time": "2024-07-07T01:03:27.914574",
     "status": "completed"
    },
    "tags": []
   },
   "outputs": [],
   "source": [
    "def relative_projection(x, anchors):\n",
    "    x = normalize(x, p=2, dim=-1)\n",
    "    anchors = normalize(anchors, p=2, dim=-1)\n",
    "    return torch.einsum(\"bm, am -> ba\", x, anchors)\n",
    "\n",
    "\n",
    "def get_relative(vectors, anchor_ids):\n",
    "    anchor_latents = vectors[anchor_ids]\n",
    "    relative_vectors = relative_projection(x=vectors, anchors=anchor_latents)\n",
    "    return relative_vectors"
   ]
  },
  {
   "cell_type": "code",
   "execution_count": 3,
   "id": "1b53cd91",
   "metadata": {
    "execution": {
     "iopub.execute_input": "2024-07-07T01:03:27.940378Z",
     "iopub.status.busy": "2024-07-07T01:03:27.939947Z",
     "iopub.status.idle": "2024-07-07T01:03:27.947545Z",
     "shell.execute_reply": "2024-07-07T01:03:27.946225Z"
    },
    "papermill": {
     "duration": 0.0156,
     "end_time": "2024-07-07T01:03:27.950361",
     "exception": false,
     "start_time": "2024-07-07T01:03:27.934761",
     "status": "completed"
    },
    "tags": []
   },
   "outputs": [],
   "source": [
    "# method of choosing anchors (uniform sampling)\n",
    "def get_anchor_ids(num_anchors, num_latents):\n",
    "    # Select anchors\n",
    "    seed_everything(seed)\n",
    "    anchor_set = random.sample(range(num_latents), num_anchors)\n",
    "    result = sorted(anchor_set)\n",
    "    return result\n",
    "\n",
    "# given two encoders returns shared vocabulary\n",
    "def get_shared_vocabulary(encoder1, encoder2):\n",
    "    vocab1 = set(encoder1.key_to_index.keys())\n",
    "    vocab2 = set(encoder2.key_to_index.keys())\n",
    "    return list(vocab1.intersection(vocab2))"
   ]
  },
  {
   "cell_type": "code",
   "execution_count": 4,
   "id": "88f32ade",
   "metadata": {
    "execution": {
     "iopub.execute_input": "2024-07-07T01:03:27.960222Z",
     "iopub.status.busy": "2024-07-07T01:03:27.959753Z",
     "iopub.status.idle": "2024-07-07T01:09:17.290441Z",
     "shell.execute_reply": "2024-07-07T01:09:17.288626Z"
    },
    "papermill": {
     "duration": 349.339795,
     "end_time": "2024-07-07T01:09:17.294106",
     "exception": false,
     "start_time": "2024-07-07T01:03:27.954311",
     "status": "completed"
    },
    "tags": []
   },
   "outputs": [],
   "source": [
    "# Step 1: Download the file\n",
    "dataset = \"wiki-news-300d-1M.vec\"\n",
    "url = f\"https://dl.fbaipublicfiles.com/fasttext/vectors-english/{dataset}.zip\"\n",
    "response = requests.get(url)\n",
    "with open(\"wiki-news-300d-1M.vec.zip\", \"wb\") as f:\n",
    "    f.write(response.content)\n",
    "\n",
    "# Step 2: Extract the file\n",
    "with zipfile.ZipFile(\"wiki-news-300d-1M.vec.zip\", \"r\") as zip_ref:\n",
    "    zip_ref.extractall()\n",
    "\n",
    "\n",
    "# Step 3: Load the vectors into gensim\n",
    "fasttext_model = KeyedVectors.load_word2vec_format(dataset, binary=False)"
   ]
  },
  {
   "cell_type": "code",
   "execution_count": 5,
   "id": "474a2f03",
   "metadata": {
    "execution": {
     "iopub.execute_input": "2024-07-07T01:09:17.304527Z",
     "iopub.status.busy": "2024-07-07T01:09:17.304112Z",
     "iopub.status.idle": "2024-07-07T01:15:01.336717Z",
     "shell.execute_reply": "2024-07-07T01:15:01.334415Z"
    },
    "papermill": {
     "duration": 344.045235,
     "end_time": "2024-07-07T01:15:01.343732",
     "exception": false,
     "start_time": "2024-07-07T01:09:17.298497",
     "status": "completed"
    },
    "tags": []
   },
   "outputs": [
    {
     "name": "stdout",
     "output_type": "stream",
     "text": [
      "[=================================================-] 99.7% 1658.4/1662.8MB downloaded\n"
     ]
    }
   ],
   "source": [
    "ENCODERS = {\n",
    "    \"fasttext\": fasttext_model,\n",
    "    \"word2vec\": api.load(\"word2vec-google-news-300\"),\n",
    "}"
   ]
  },
  {
   "cell_type": "code",
   "execution_count": 6,
   "id": "e9aae718",
   "metadata": {
    "execution": {
     "iopub.execute_input": "2024-07-07T01:15:32.569826Z",
     "iopub.status.busy": "2024-07-07T01:15:32.569276Z",
     "iopub.status.idle": "2024-07-07T01:15:33.886705Z",
     "shell.execute_reply": "2024-07-07T01:15:33.885495Z"
    },
    "papermill": {
     "duration": 16.661903,
     "end_time": "2024-07-07T01:15:33.889636",
     "exception": false,
     "start_time": "2024-07-07T01:15:17.227733",
     "status": "completed"
    },
    "tags": []
   },
   "outputs": [],
   "source": [
    "shared_vocab = get_shared_vocabulary(ENCODERS[\"word2vec\"], ENCODERS[\"fasttext\"])"
   ]
  },
  {
   "cell_type": "code",
   "execution_count": 7,
   "id": "76f9c6c2",
   "metadata": {
    "execution": {
     "iopub.execute_input": "2024-07-07T01:16:04.362154Z",
     "iopub.status.busy": "2024-07-07T01:16:04.361601Z",
     "iopub.status.idle": "2024-07-07T01:16:04.408995Z",
     "shell.execute_reply": "2024-07-07T01:16:04.407605Z"
    },
    "papermill": {
     "duration": 15.151775,
     "end_time": "2024-07-07T01:16:04.412051",
     "exception": false,
     "start_time": "2024-07-07T01:15:49.260276",
     "status": "completed"
    },
    "tags": []
   },
   "outputs": [],
   "source": [
    "# Select 20K random pivot words\n",
    "seed_everything(seed)\n",
    "quantitative_words = random.sample(shared_vocab, NO_quantitative_shared_words)"
   ]
  },
  {
   "cell_type": "code",
   "execution_count": 8,
   "id": "20e4a544",
   "metadata": {
    "execution": {
     "iopub.execute_input": "2024-07-07T01:16:34.799639Z",
     "iopub.status.busy": "2024-07-07T01:16:34.799216Z",
     "iopub.status.idle": "2024-07-07T01:16:38.971941Z",
     "shell.execute_reply": "2024-07-07T01:16:38.970641Z"
    },
    "papermill": {
     "duration": 19.303443,
     "end_time": "2024-07-07T01:16:38.974558",
     "exception": false,
     "start_time": "2024-07-07T01:16:19.671115",
     "status": "completed"
    },
    "tags": []
   },
   "outputs": [
    {
     "name": "stderr",
     "output_type": "stream",
     "text": [
      "/tmp/ipykernel_18/339358971.py:2: UserWarning: Creating a tensor from a list of numpy.ndarrays is extremely slow. Please consider converting the list to a single numpy.ndarray with numpy.array() before converting to a tensor. (Triggered internally at ../torch/csrc/utils/tensor_new.cpp:261.)\n",
      "  word2vec_absolute_latents = torch.tensor([ENCODERS[\"fasttext\"][word]\n"
     ]
    },
    {
     "name": "stdout",
     "output_type": "stream",
     "text": [
      "torch.Size([20000, 300]) torch.Size([20000, 300])\n"
     ]
    },
    {
     "data": {
      "text/plain": [
       "tensor(-0.0032)"
      ]
     },
     "execution_count": 8,
     "metadata": {},
     "output_type": "execute_result"
    }
   ],
   "source": [
    "# get absolute representations of selected words among the shared vocabulary\n",
    "word2vec_absolute_latents = torch.tensor([ENCODERS[\"fasttext\"][word]\n",
    "                                       for word in quantitative_words])\n",
    "fasttext_absolute_latents = torch.tensor([ENCODERS[\"word2vec\"][word]\n",
    "                                       for word in quantitative_words])\n",
    "      \n",
    "# The shape is [num_samples, hidden_dim]\n",
    "print(word2vec_absolute_latents.shape, fasttext_absolute_latents.shape)\n",
    "\n",
    "# Compare the absolute latents --> low similarity since there is an isometry\n",
    "cosine_similarity(word2vec_absolute_latents, fasttext_absolute_latents).mean()"
   ]
  },
  {
   "cell_type": "code",
   "execution_count": 9,
   "id": "4f829af8",
   "metadata": {
    "execution": {
     "iopub.execute_input": "2024-07-07T01:17:09.405272Z",
     "iopub.status.busy": "2024-07-07T01:17:09.404850Z",
     "iopub.status.idle": "2024-07-07T01:17:09.727280Z",
     "shell.execute_reply": "2024-07-07T01:17:09.725610Z"
    },
    "papermill": {
     "duration": 15.524591,
     "end_time": "2024-07-07T01:17:09.729916",
     "exception": false,
     "start_time": "2024-07-07T01:16:54.205325",
     "status": "completed"
    },
    "tags": []
   },
   "outputs": [
    {
     "name": "stdout",
     "output_type": "stream",
     "text": [
      "torch.Size([20000, 300]) torch.Size([20000, 300])\n"
     ]
    },
    {
     "data": {
      "text/plain": [
       "tensor(0.7779)"
      ]
     },
     "execution_count": 9,
     "metadata": {},
     "output_type": "execute_result"
    }
   ],
   "source": [
    "# Get some anchors\n",
    "anchor_ids = get_anchor_ids(num_anchors, num_latents=NO_quantitative_shared_words)\n",
    "\n",
    "# Transform both spaces w.r.t. the same anchors\n",
    "word2vec_relative_latents = get_relative(word2vec_absolute_latents, anchor_ids)\n",
    "fasttext_relative_latents = get_relative(fasttext_absolute_latents, anchor_ids)\n",
    "\n",
    "# The shape is [num_samples, num_anchors]\n",
    "print(word2vec_relative_latents.shape, fasttext_relative_latents.shape)\n",
    "\n",
    "# Compare the relative spaces --> perfect similarity, since we are invariant to isometries\n",
    "cosine_similarity(word2vec_relative_latents, fasttext_relative_latents).mean()"
   ]
  }
 ],
 "metadata": {
  "kaggle": {
   "accelerator": "none",
   "dataSources": [],
   "dockerImageVersionId": 30732,
   "isGpuEnabled": false,
   "isInternetEnabled": true,
   "language": "python",
   "sourceType": "notebook"
  },
  "kernelspec": {
   "display_name": "Python 3",
   "language": "python",
   "name": "python3"
  },
  "language_info": {
   "codemirror_mode": {
    "name": "ipython",
    "version": 3
   },
   "file_extension": ".py",
   "mimetype": "text/x-python",
   "name": "python",
   "nbconvert_exporter": "python",
   "pygments_lexer": "ipython3",
   "version": "3.10.13"
  },
  "papermill": {
   "default_parameters": {},
   "duration": 868.2828,
   "end_time": "2024-07-07T01:17:27.869348",
   "environment_variables": {},
   "exception": null,
   "input_path": "__notebook__.ipynb",
   "output_path": "__notebook__.ipynb",
   "parameters": {},
   "start_time": "2024-07-07T01:02:59.586548",
   "version": "2.5.0"
  }
 },
 "nbformat": 4,
 "nbformat_minor": 5
}
